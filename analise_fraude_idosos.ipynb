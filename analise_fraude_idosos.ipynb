{
 "cells": [
  {
   "cell_type": "code",
   "execution_count": null,
   "id": "f7088f7a",
   "metadata": {},
   "outputs": [],
   "source": [
    "# Importar bibliotecas necessárias\n",
    "import pandas as pd\n",
    "import matplotlib.pyplot as plt"
   ]
  },
  {
   "cell_type": "code",
   "execution_count": null,
   "id": "fd64caf0",
   "metadata": {},
   "outputs": [],
   "source": [
    "# 1. Carregar o arquivo CSV com os dados de transações fraudulentas\n",
    "df = pd.read_csv('Fraudulent_E-Commerce_Transaction_Data_2.csv')\n",
    "\n",
    "# Verificar as primeiras linhas para ter uma ideia do conteúdo\n",
    "print(df.head())"
   ]
  },
  {
   "cell_type": "code",
   "execution_count": null,
   "id": "61bbdeaa",
   "metadata": {},
   "outputs": [],
   "source": [
    "# 2. Análises focadas no tema de fraudes em idosos\n",
    "\n",
    "# Fraudes por faixa etária - foco em idosos (acima de 50 anos)\n",
    "age_above_50 = df[df['Customer Age'] > 50]\n",
    "age_above_50_fraud = age_above_50.groupby('Customer Age')['Is Fraudulent'].mean().reset_index()\n",
    "\n",
    "# Gráfico: Percentual de fraudes por idade acima de 50 anos\n",
    "plt.figure(figsize=(10,6))\n",
    "plt.plot(age_above_50_fraud['Customer Age'], age_above_50_fraud['Is Fraudulent']*100, color='green', marker='o')\n",
    "plt.title('Percentual de Fraudes por Idade Acima de 50 Anos')\n",
    "plt.xlabel('Idade do Cliente')\n",
    "plt.ylabel('Percentual de Fraude (%)')\n",
    "plt.grid(True)\n",
    "plt.show()"
   ]
  },
  {
   "cell_type": "code",
   "execution_count": null,
   "id": "e49bbbb0",
   "metadata": {},
   "outputs": [],
   "source": [
    "# 3. Média de valor das transações fraudulentas por faixa etária\n",
    "age_transaction_value = df[df['Is Fraudulent'] == 1].groupby('Customer Age')['Transaction Amount'].mean().reset_index()\n",
    "\n",
    "# Gráfico: Valor médio das transações fraudulentas por idade\n",
    "plt.figure(figsize=(10,6))\n",
    "plt.plot(age_transaction_value['Customer Age'], age_transaction_value['Transaction Amount'], color='purple', marker='o')\n",
    "plt.title('Valor Médio das Transações Fraudulentas por Idade')\n",
    "plt.xlabel('Idade do Cliente')\n",
    "plt.ylabel('Valor Médio da Transação (USD)')\n",
    "plt.grid(True)\n",
    "plt.show()"
   ]
  },
  {
   "cell_type": "code",
   "execution_count": null,
   "id": "bc41c100",
   "metadata": {},
   "outputs": [],
   "source": [
    "# 4. Fraudes por dispositivo utilizado por idosos (clientes acima de 50 anos)\n",
    "device_fraud = age_above_50.groupby('Device Used')['Is Fraudulent'].mean().reset_index()\n",
    "\n",
    "# Gráfico: Percentual de fraudes por dispositivo para idosos\n",
    "plt.figure(figsize=(10,6))\n",
    "plt.bar(device_fraud['Device Used'], device_fraud['Is Fraudulent']*100, color='red')\n",
    "plt.title('Percentual de Fraudes por Dispositivo (Clientes Acima de 50 Anos)')\n",
    "plt.xlabel('Dispositivo Utilizado')\n",
    "plt.ylabel('Percentual de Fraude (%)')\n",
    "plt.show()"
   ]
  },
  {
   "cell_type": "code",
   "execution_count": null,
   "id": "7e16421e",
   "metadata": {},
   "outputs": [],
   "source": [
    "# 5. Fraudes por localização para clientes idosos (50+ anos)\n",
    "location_fraud = age_above_50.groupby('Customer Location')['Is Fraudulent'].mean().reset_index()\n",
    "\n",
    "# Exibir as localizações com maiores taxas de fraude (Top 10)\n",
    "location_fraud_sorted = location_fraud.sort_values(by='Is Fraudulent', ascending=False).head(10)\n",
    "print('Top 10 Localizações com maiores fraudes para clientes idosos:')\n",
    "print(location_fraud_sorted)"
   ]
  },
  {
   "cell_type": "code",
   "execution_count": null,
   "id": "3801d5b8",
   "metadata": {},
   "outputs": [],
   "source": [
    "# 6. Distribuição dos valores das transações fraudulentas para clientes acima de 50 anos\n",
    "plt.figure(figsize=(10,6))\n",
    "plt.hist(age_above_50[age_above_50['Is Fraudulent'] == 1]['Transaction Amount'], bins=30, color='blue', edgecolor='black')\n",
    "plt.title('Distribuição de Valores das Transações Fraudulentas (Clientes Acima de 50 Anos)')\n",
    "plt.xlabel('Valor da Transação (USD)')\n",
    "plt.ylabel('Frequência')\n",
    "plt.grid(True)\n",
    "plt.show()"
   ]
  },
  {
   "cell_type": "code",
   "execution_count": null,
   "id": "402786a5",
   "metadata": {},
   "outputs": [],
   "source": [
    "# 7. Comparação de fraudes entre clientes acima e abaixo de 50 anos\n",
    "below_50 = df[df['Customer Age'] <= 50].groupby('Customer Age')['Is Fraudulent'].mean().reset_index()\n",
    "above_50 = df[df['Customer Age'] > 50].groupby('Customer Age')['Is Fraudulent'].mean().reset_index()\n",
    "\n",
    "# Gráfico: Comparação de fraudes entre faixas etárias\n",
    "plt.figure(figsize=(10,6))\n",
    "plt.plot(below_50['Customer Age'], below_50['Is Fraudulent']*100, color='blue', label='Clientes ≤ 50 anos', marker='o')\n",
    "plt.plot(above_50['Customer Age'], above_50['Is Fraudulent']*100, color='green', label='Clientes > 50 anos', marker='o')\n",
    "plt.title('Comparação de Fraudes por Idade (Clientes ≤ 50 e > 50)')\n",
    "plt.xlabel('Idade do Cliente')\n",
    "plt.ylabel('Percentual de Fraude (%)')\n",
    "plt.legend()\n",
    "plt.grid(True)\n",
    "plt.show()"
   ]
  },
  {
   "cell_type": "code",
   "execution_count": null,
   "id": "cca0fde9",
   "metadata": {},
   "outputs": [],
   "source": [
    "# 8. Percentual de fraudes por hora do dia\n",
    "hour_fraud = df.groupby('Transaction Hour')['Is Fraudulent'].mean().reset_index()\n",
    "\n",
    "# Gráfico: Percentual de fraudes por hora do dia\n",
    "plt.figure(figsize=(10,6))\n",
    "plt.plot(hour_fraud['Transaction Hour'], hour_fraud['Is Fraudulent']*100, color='orange', marker='o')\n",
    "plt.title('Percentual de Fraudes por Hora do Dia')\n",
    "plt.xlabel('Hora do Dia')\n",
    "plt.ylabel('Percentual de Fraude (%)')\n",
    "plt.grid(True)\n",
    "plt.show()"
   ]
  },
  {
   "cell_type": "code",
   "execution_count": null,
   "id": "08aef1f9",
   "metadata": {},
   "outputs": [],
   "source": [
    "# 9. Exportar tabelas consolidadas para Excel\n",
    "age_above_50_fraud.to_excel('tabela_fraude_idade_acima_50.xlsx', index=False)\n",
    "age_transaction_value.to_excel('tabela_valor_fraude_idade.xlsx', index=False)\n",
    "device_fraud.to_excel('tabela_fraude_dispositivo_idosos.xlsx', index=False)\n",
    "location_fraud_sorted.to_excel('tabela_fraude_localizacao_idosos.xlsx', index=False)\n",
    "hour_fraud.to_excel('tabela_fraude_hora_do_dia.xlsx', index=False)"
   ]
  }
 ],
 "metadata": {},
 "nbformat": 4,
 "nbformat_minor": 5
}
